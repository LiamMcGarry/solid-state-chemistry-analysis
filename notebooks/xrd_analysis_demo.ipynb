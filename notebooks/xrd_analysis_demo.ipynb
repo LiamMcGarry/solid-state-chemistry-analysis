{
 "cells": [
  {
   "cell_type": "code",
   "execution_count": null,
   "metadata": {
    "vscode": {
     "languageId": "plaintext"
    }
   },
   "outputs": [],
   "source": [
    "import sys\n",
    "import os\n",
    "sys.path.append(os.path.abspath('../src'))\n",
    "\n",
    "from xrd_analysis import load_xrd_data, normalize_intensity, plot_xrd\n",
    "data = load_xrd_data('../data/sample_xrd.csv')\n",
    "data.head()\n",
    "data = normalize_intensity(data)\n",
    "plot_xrd(data)\n",
    "## X-ray Diffraction Data Analysis Demo\n",
    "\n",
    "This notebook demonstrates how to load, process, and plot a simple XRD dataset using Python.\n",
    "\n",
    "### Features:\n",
    "- Loads a sample `.csv` dataset of 2θ vs intensity\n",
    "- Normalizes the intensity\n",
    "- Plots a publication-style XRD pattern\n"
   ]
  }
 ],
 "metadata": {
  "language_info": {
   "name": "python"
  }
 },
 "nbformat": 4,
 "nbformat_minor": 2
}
